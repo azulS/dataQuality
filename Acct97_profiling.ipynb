{
 "cells": [
  {
   "cell_type": "markdown",
   "metadata": {},
   "source": [
    "# Dataset: Acct97.txt"
   ]
  },
  {
   "cell_type": "code",
   "execution_count": 1,
   "metadata": {},
   "outputs": [],
   "source": [
    "import pandas as pd\n",
    "\n",
    "import matplotlib.pyplot as plt\n",
    "\n",
    "import re"
   ]
  },
  {
   "cell_type": "code",
   "execution_count": 2,
   "metadata": {},
   "outputs": [
    {
     "data": {
      "text/html": [
       "<div>\n",
       "<style scoped>\n",
       "    .dataframe tbody tr th:only-of-type {\n",
       "        vertical-align: middle;\n",
       "    }\n",
       "\n",
       "    .dataframe tbody tr th {\n",
       "        vertical-align: top;\n",
       "    }\n",
       "\n",
       "    .dataframe thead th {\n",
       "        text-align: right;\n",
       "    }\n",
       "</style>\n",
       "<table border=\"1\" class=\"dataframe\">\n",
       "  <thead>\n",
       "    <tr style=\"text-align: right;\">\n",
       "      <th></th>\n",
       "      <th>ID</th>\n",
       "      <th>ACCOUNT</th>\n",
       "      <th>OPEN_BAL</th>\n",
       "      <th>CURR_BAL</th>\n",
       "      <th>OPENDATE</th>\n",
       "      <th>ACCTNO</th>\n",
       "    </tr>\n",
       "  </thead>\n",
       "  <tbody>\n",
       "    <tr>\n",
       "      <th>0</th>\n",
       "      <td>ID12701</td>\n",
       "      <td>SAVE</td>\n",
       "      <td>1000.0</td>\n",
       "      <td>1005.32</td>\n",
       "      <td>11/2/1997</td>\n",
       "      <td>SA 12701 53549</td>\n",
       "    </tr>\n",
       "    <tr>\n",
       "      <th>1</th>\n",
       "      <td>ID12702</td>\n",
       "      <td>SAVE</td>\n",
       "      <td>100.0</td>\n",
       "      <td>144.51</td>\n",
       "      <td>20/5/1997</td>\n",
       "      <td>SA 12702 18333</td>\n",
       "    </tr>\n",
       "    <tr>\n",
       "      <th>2</th>\n",
       "      <td>ID12703</td>\n",
       "      <td>SAVE</td>\n",
       "      <td>300.0</td>\n",
       "      <td>321.20</td>\n",
       "      <td>20/7/1997</td>\n",
       "      <td>SA 12703 30343</td>\n",
       "    </tr>\n",
       "    <tr>\n",
       "      <th>3</th>\n",
       "      <td>ID12703</td>\n",
       "      <td>CURRENT</td>\n",
       "      <td>150.0</td>\n",
       "      <td>-204.51</td>\n",
       "      <td>23/5/1997</td>\n",
       "      <td>CU 12703 75336</td>\n",
       "    </tr>\n",
       "    <tr>\n",
       "      <th>4</th>\n",
       "      <td>ID12704</td>\n",
       "      <td>SAVE</td>\n",
       "      <td>2000.0</td>\n",
       "      <td>2022.02</td>\n",
       "      <td>7/3/1997</td>\n",
       "      <td>SA 12704 14721</td>\n",
       "    </tr>\n",
       "  </tbody>\n",
       "</table>\n",
       "</div>"
      ],
      "text/plain": [
       "        ID  ACCOUNT  OPEN_BAL  CURR_BAL   OPENDATE          ACCTNO\n",
       "0  ID12701     SAVE    1000.0   1005.32  11/2/1997  SA 12701 53549\n",
       "1  ID12702     SAVE     100.0    144.51  20/5/1997  SA 12702 18333\n",
       "2  ID12703     SAVE     300.0    321.20  20/7/1997  SA 12703 30343\n",
       "3  ID12703  CURRENT     150.0   -204.51  23/5/1997  CU 12703 75336\n",
       "4  ID12704     SAVE    2000.0   2022.02   7/3/1997  SA 12704 14721"
      ]
     },
     "execution_count": 2,
     "metadata": {},
     "output_type": "execute_result"
    }
   ],
   "source": [
    "df = pd.read_csv(r'C:\\Users\\pdearria\\OneDrive - NTT DATA EMEAL\\PabloA\\Data Strategy\\DQ_landing\\spss\\acct97.txt',sep=',', encoding='iso-8859-1')\n",
    "\n",
    "df.head()"
   ]
  },
  {
   "cell_type": "markdown",
   "metadata": {},
   "source": [
    "Exportación a parquet"
   ]
  },
  {
   "cell_type": "code",
   "execution_count": 4,
   "metadata": {},
   "outputs": [
    {
     "data": {
      "text/html": [
       "<div>\n",
       "<style scoped>\n",
       "    .dataframe tbody tr th:only-of-type {\n",
       "        vertical-align: middle;\n",
       "    }\n",
       "\n",
       "    .dataframe tbody tr th {\n",
       "        vertical-align: top;\n",
       "    }\n",
       "\n",
       "    .dataframe thead th {\n",
       "        text-align: right;\n",
       "    }\n",
       "</style>\n",
       "<table border=\"1\" class=\"dataframe\">\n",
       "  <thead>\n",
       "    <tr style=\"text-align: right;\">\n",
       "      <th></th>\n",
       "      <th>ID</th>\n",
       "      <th>ACCOUNT</th>\n",
       "      <th>OPEN_BAL</th>\n",
       "      <th>CURR_BAL</th>\n",
       "      <th>OPENDATE</th>\n",
       "      <th>ACCTNO</th>\n",
       "    </tr>\n",
       "  </thead>\n",
       "  <tbody>\n",
       "    <tr>\n",
       "      <th>0</th>\n",
       "      <td>ID12701</td>\n",
       "      <td>SAVE</td>\n",
       "      <td>1000.0</td>\n",
       "      <td>1005.32</td>\n",
       "      <td>11/2/1997</td>\n",
       "      <td>SA 12701 53549</td>\n",
       "    </tr>\n",
       "    <tr>\n",
       "      <th>1</th>\n",
       "      <td>ID12702</td>\n",
       "      <td>SAVE</td>\n",
       "      <td>100.0</td>\n",
       "      <td>144.51</td>\n",
       "      <td>20/5/1997</td>\n",
       "      <td>SA 12702 18333</td>\n",
       "    </tr>\n",
       "    <tr>\n",
       "      <th>2</th>\n",
       "      <td>ID12703</td>\n",
       "      <td>SAVE</td>\n",
       "      <td>300.0</td>\n",
       "      <td>321.20</td>\n",
       "      <td>20/7/1997</td>\n",
       "      <td>SA 12703 30343</td>\n",
       "    </tr>\n",
       "    <tr>\n",
       "      <th>3</th>\n",
       "      <td>ID12703</td>\n",
       "      <td>CURRENT</td>\n",
       "      <td>150.0</td>\n",
       "      <td>-204.51</td>\n",
       "      <td>23/5/1997</td>\n",
       "      <td>CU 12703 75336</td>\n",
       "    </tr>\n",
       "    <tr>\n",
       "      <th>4</th>\n",
       "      <td>ID12704</td>\n",
       "      <td>SAVE</td>\n",
       "      <td>2000.0</td>\n",
       "      <td>2022.02</td>\n",
       "      <td>7/3/1997</td>\n",
       "      <td>SA 12704 14721</td>\n",
       "    </tr>\n",
       "  </tbody>\n",
       "</table>\n",
       "</div>"
      ],
      "text/plain": [
       "        ID  ACCOUNT  OPEN_BAL  CURR_BAL   OPENDATE          ACCTNO\n",
       "0  ID12701     SAVE    1000.0   1005.32  11/2/1997  SA 12701 53549\n",
       "1  ID12702     SAVE     100.0    144.51  20/5/1997  SA 12702 18333\n",
       "2  ID12703     SAVE     300.0    321.20  20/7/1997  SA 12703 30343\n",
       "3  ID12703  CURRENT     150.0   -204.51  23/5/1997  CU 12703 75336\n",
       "4  ID12704     SAVE    2000.0   2022.02   7/3/1997  SA 12704 14721"
      ]
     },
     "execution_count": 4,
     "metadata": {},
     "output_type": "execute_result"
    }
   ],
   "source": [
    "# exporta el DataFrame a parquet\n",
    "df.to_parquet(r'C:\\Users\\pdearria\\OneDrive - NTT DATA EMEAL\\PabloA\\Data Strategy\\DQ_landing\\spss\\acct97.parquet', engine='pyarrow')\n",
    "\n",
    "# Prueba de lectura\n",
    "df_parquet = pd.read_parquet(r'C:\\Users\\pdearria\\OneDrive - NTT DATA EMEAL\\PabloA\\Data Strategy\\DQ_landing\\spss\\acct97.parquet', engine='pyarrow')\n",
    "df_parquet.head()"
   ]
  },
  {
   "cell_type": "code",
   "execution_count": 7,
   "metadata": {},
   "outputs": [
    {
     "data": {
      "text/plain": [
       "162"
      ]
     },
     "execution_count": 7,
     "metadata": {},
     "output_type": "execute_result"
    }
   ],
   "source": [
    "# cantidad de registros\n",
    "df['ID'].size"
   ]
  },
  {
   "cell_type": "markdown",
   "metadata": {},
   "source": [
    "Exploratorios con univariados"
   ]
  },
  {
   "cell_type": "code",
   "execution_count": 26,
   "metadata": {},
   "outputs": [
    {
     "data": {
      "text/html": [
       "<div>\n",
       "<style scoped>\n",
       "    .dataframe tbody tr th:only-of-type {\n",
       "        vertical-align: middle;\n",
       "    }\n",
       "\n",
       "    .dataframe tbody tr th {\n",
       "        vertical-align: top;\n",
       "    }\n",
       "\n",
       "    .dataframe thead th {\n",
       "        text-align: right;\n",
       "    }\n",
       "</style>\n",
       "<table border=\"1\" class=\"dataframe\">\n",
       "  <thead>\n",
       "    <tr style=\"text-align: right;\">\n",
       "      <th></th>\n",
       "      <th>OPEN_BAL</th>\n",
       "      <th>CURR_BAL</th>\n",
       "    </tr>\n",
       "  </thead>\n",
       "  <tbody>\n",
       "    <tr>\n",
       "      <th>count</th>\n",
       "      <td>162.000000</td>\n",
       "      <td>162.000000</td>\n",
       "    </tr>\n",
       "    <tr>\n",
       "      <th>mean</th>\n",
       "      <td>663.060637</td>\n",
       "      <td>685.337840</td>\n",
       "    </tr>\n",
       "    <tr>\n",
       "      <th>std</th>\n",
       "      <td>934.439992</td>\n",
       "      <td>955.096339</td>\n",
       "    </tr>\n",
       "    <tr>\n",
       "      <th>min</th>\n",
       "      <td>1.000000</td>\n",
       "      <td>-1200.200000</td>\n",
       "    </tr>\n",
       "    <tr>\n",
       "      <th>1%</th>\n",
       "      <td>1.000000</td>\n",
       "      <td>-273.197200</td>\n",
       "    </tr>\n",
       "    <tr>\n",
       "      <th>3%</th>\n",
       "      <td>5.000000</td>\n",
       "      <td>-82.897100</td>\n",
       "    </tr>\n",
       "    <tr>\n",
       "      <th>5%</th>\n",
       "      <td>10.222385</td>\n",
       "      <td>26.648000</td>\n",
       "    </tr>\n",
       "    <tr>\n",
       "      <th>25%</th>\n",
       "      <td>101.439750</td>\n",
       "      <td>140.580000</td>\n",
       "    </tr>\n",
       "    <tr>\n",
       "      <th>50%</th>\n",
       "      <td>242.430500</td>\n",
       "      <td>305.820000</td>\n",
       "    </tr>\n",
       "    <tr>\n",
       "      <th>75%</th>\n",
       "      <td>1003.787500</td>\n",
       "      <td>1058.325000</td>\n",
       "    </tr>\n",
       "    <tr>\n",
       "      <th>95%</th>\n",
       "      <td>2306.029500</td>\n",
       "      <td>2316.122500</td>\n",
       "    </tr>\n",
       "    <tr>\n",
       "      <th>97%</th>\n",
       "      <td>2811.262800</td>\n",
       "      <td>2834.458100</td>\n",
       "    </tr>\n",
       "    <tr>\n",
       "      <th>99%</th>\n",
       "      <td>4712.342300</td>\n",
       "      <td>4777.598200</td>\n",
       "    </tr>\n",
       "    <tr>\n",
       "      <th>max</th>\n",
       "      <td>5072.400000</td>\n",
       "      <td>5103.630000</td>\n",
       "    </tr>\n",
       "  </tbody>\n",
       "</table>\n",
       "</div>"
      ],
      "text/plain": [
       "          OPEN_BAL     CURR_BAL\n",
       "count   162.000000   162.000000\n",
       "mean    663.060637   685.337840\n",
       "std     934.439992   955.096339\n",
       "min       1.000000 -1200.200000\n",
       "1%        1.000000  -273.197200\n",
       "3%        5.000000   -82.897100\n",
       "5%       10.222385    26.648000\n",
       "25%     101.439750   140.580000\n",
       "50%     242.430500   305.820000\n",
       "75%    1003.787500  1058.325000\n",
       "95%    2306.029500  2316.122500\n",
       "97%    2811.262800  2834.458100\n",
       "99%    4712.342300  4777.598200\n",
       "max    5072.400000  5103.630000"
      ]
     },
     "execution_count": 26,
     "metadata": {},
     "output_type": "execute_result"
    }
   ],
   "source": [
    "# variables continuas\n",
    "\n",
    "df.describe(percentiles=[0.01, 0.03, 0.05, 0.25, 0.75, 0.95, 0.97, 0.99], include='number')"
   ]
  },
  {
   "cell_type": "code",
   "execution_count": 8,
   "metadata": {},
   "outputs": [
    {
     "data": {
      "text/html": [
       "<div>\n",
       "<style scoped>\n",
       "    .dataframe tbody tr th:only-of-type {\n",
       "        vertical-align: middle;\n",
       "    }\n",
       "\n",
       "    .dataframe tbody tr th {\n",
       "        vertical-align: top;\n",
       "    }\n",
       "\n",
       "    .dataframe thead th {\n",
       "        text-align: right;\n",
       "    }\n",
       "</style>\n",
       "<table border=\"1\" class=\"dataframe\">\n",
       "  <thead>\n",
       "    <tr style=\"text-align: right;\">\n",
       "      <th></th>\n",
       "      <th></th>\n",
       "      <th>OPEN_BAL</th>\n",
       "      <th>CURR_BAL</th>\n",
       "    </tr>\n",
       "    <tr>\n",
       "      <th>ACCOUNT</th>\n",
       "      <th></th>\n",
       "      <th></th>\n",
       "      <th></th>\n",
       "    </tr>\n",
       "  </thead>\n",
       "  <tbody>\n",
       "    <tr>\n",
       "      <th rowspan=\"14\" valign=\"top\">CURRENT</th>\n",
       "      <th>count</th>\n",
       "      <td>93.000000</td>\n",
       "      <td>93.000000</td>\n",
       "    </tr>\n",
       "    <tr>\n",
       "      <th>mean</th>\n",
       "      <td>745.370355</td>\n",
       "      <td>746.823441</td>\n",
       "    </tr>\n",
       "    <tr>\n",
       "      <th>std</th>\n",
       "      <td>950.307404</td>\n",
       "      <td>986.588287</td>\n",
       "    </tr>\n",
       "    <tr>\n",
       "      <th>min</th>\n",
       "      <td>1.000000</td>\n",
       "      <td>-1200.200000</td>\n",
       "    </tr>\n",
       "    <tr>\n",
       "      <th>1%</th>\n",
       "      <td>4.680000</td>\n",
       "      <td>-433.490400</td>\n",
       "    </tr>\n",
       "    <tr>\n",
       "      <th>3%</th>\n",
       "      <td>14.867448</td>\n",
       "      <td>-206.629200</td>\n",
       "    </tr>\n",
       "    <tr>\n",
       "      <th>5%</th>\n",
       "      <td>22.974120</td>\n",
       "      <td>-89.022000</td>\n",
       "    </tr>\n",
       "    <tr>\n",
       "      <th>25%</th>\n",
       "      <td>109.067000</td>\n",
       "      <td>133.360000</td>\n",
       "    </tr>\n",
       "    <tr>\n",
       "      <th>50%</th>\n",
       "      <td>314.068000</td>\n",
       "      <td>359.130000</td>\n",
       "    </tr>\n",
       "    <tr>\n",
       "      <th>75%</th>\n",
       "      <td>1099.470000</td>\n",
       "      <td>1123.280000</td>\n",
       "    </tr>\n",
       "    <tr>\n",
       "      <th>95%</th>\n",
       "      <td>2484.000000</td>\n",
       "      <td>2497.496000</td>\n",
       "    </tr>\n",
       "    <tr>\n",
       "      <th>97%</th>\n",
       "      <td>2812.511600</td>\n",
       "      <td>2836.483200</td>\n",
       "    </tr>\n",
       "    <tr>\n",
       "      <th>99%</th>\n",
       "      <td>4545.792000</td>\n",
       "      <td>4616.968400</td>\n",
       "    </tr>\n",
       "    <tr>\n",
       "      <th>max</th>\n",
       "      <td>5072.400000</td>\n",
       "      <td>5103.630000</td>\n",
       "    </tr>\n",
       "    <tr>\n",
       "      <th rowspan=\"14\" valign=\"top\">SAVE</th>\n",
       "      <th>count</th>\n",
       "      <td>69.000000</td>\n",
       "      <td>69.000000</td>\n",
       "    </tr>\n",
       "    <tr>\n",
       "      <th>mean</th>\n",
       "      <td>552.121452</td>\n",
       "      <td>602.465942</td>\n",
       "    </tr>\n",
       "    <tr>\n",
       "      <th>std</th>\n",
       "      <td>907.636302</td>\n",
       "      <td>911.458101</td>\n",
       "    </tr>\n",
       "    <tr>\n",
       "      <th>min</th>\n",
       "      <td>1.000000</td>\n",
       "      <td>1.430000</td>\n",
       "    </tr>\n",
       "    <tr>\n",
       "      <th>1%</th>\n",
       "      <td>1.000000</td>\n",
       "      <td>7.631600</td>\n",
       "    </tr>\n",
       "    <tr>\n",
       "      <th>3%</th>\n",
       "      <td>5.000000</td>\n",
       "      <td>26.877600</td>\n",
       "    </tr>\n",
       "    <tr>\n",
       "      <th>5%</th>\n",
       "      <td>6.287208</td>\n",
       "      <td>46.476000</td>\n",
       "    </tr>\n",
       "    <tr>\n",
       "      <th>25%</th>\n",
       "      <td>99.554000</td>\n",
       "      <td>144.510000</td>\n",
       "    </tr>\n",
       "    <tr>\n",
       "      <th>50%</th>\n",
       "      <td>229.416000</td>\n",
       "      <td>287.800000</td>\n",
       "    </tr>\n",
       "    <tr>\n",
       "      <th>75%</th>\n",
       "      <td>580.884000</td>\n",
       "      <td>610.970000</td>\n",
       "    </tr>\n",
       "    <tr>\n",
       "      <th>95%</th>\n",
       "      <td>2073.200000</td>\n",
       "      <td>2139.878000</td>\n",
       "    </tr>\n",
       "    <tr>\n",
       "      <th>97%</th>\n",
       "      <td>2314.691200</td>\n",
       "      <td>2368.037200</td>\n",
       "    </tr>\n",
       "    <tr>\n",
       "      <th>99%</th>\n",
       "      <td>4679.332400</td>\n",
       "      <td>4710.469600</td>\n",
       "    </tr>\n",
       "    <tr>\n",
       "      <th>max</th>\n",
       "      <td>5000.000000</td>\n",
       "      <td>5095.030000</td>\n",
       "    </tr>\n",
       "  </tbody>\n",
       "</table>\n",
       "</div>"
      ],
      "text/plain": [
       "                  OPEN_BAL     CURR_BAL\n",
       "ACCOUNT                                \n",
       "CURRENT count    93.000000    93.000000\n",
       "        mean    745.370355   746.823441\n",
       "        std     950.307404   986.588287\n",
       "        min       1.000000 -1200.200000\n",
       "        1%        4.680000  -433.490400\n",
       "        3%       14.867448  -206.629200\n",
       "        5%       22.974120   -89.022000\n",
       "        25%     109.067000   133.360000\n",
       "        50%     314.068000   359.130000\n",
       "        75%    1099.470000  1123.280000\n",
       "        95%    2484.000000  2497.496000\n",
       "        97%    2812.511600  2836.483200\n",
       "        99%    4545.792000  4616.968400\n",
       "        max    5072.400000  5103.630000\n",
       "SAVE    count    69.000000    69.000000\n",
       "        mean    552.121452   602.465942\n",
       "        std     907.636302   911.458101\n",
       "        min       1.000000     1.430000\n",
       "        1%        1.000000     7.631600\n",
       "        3%        5.000000    26.877600\n",
       "        5%        6.287208    46.476000\n",
       "        25%      99.554000   144.510000\n",
       "        50%     229.416000   287.800000\n",
       "        75%     580.884000   610.970000\n",
       "        95%    2073.200000  2139.878000\n",
       "        97%    2314.691200  2368.037200\n",
       "        99%    4679.332400  4710.469600\n",
       "        max    5000.000000  5095.030000"
      ]
     },
     "execution_count": 8,
     "metadata": {},
     "output_type": "execute_result"
    }
   ],
   "source": [
    "# comprueba si el saldo negativo se da enn todos los tipos de cuenta o solo en uno\n",
    "df.groupby('ACCOUNT').describe(percentiles=[0.01, 0.03, 0.05, 0.25, 0.75, 0.95, 0.97, 0.99], include='number').stack()"
   ]
  },
  {
   "cell_type": "code",
   "execution_count": 4,
   "metadata": {},
   "outputs": [
    {
     "data": {
      "image/png": "[encoded data removed]",
      "text/plain": [
       "<Figure size 640x480 with 1 Axes>"
      ]
     },
     "metadata": {},
     "output_type": "display_data"
    }
   ],
   "source": [
    "# graficos\n",
    "df[['OPEN_BAL', 'CURR_BAL']].plot()\n",
    "plt.show()"
   ]
  },
  {
   "cell_type": "code",
   "execution_count": 7,
   "metadata": {},
   "outputs": [
    {
     "data": {
      "image/png": "[encoded data removed]",
      "text/plain": [
       "<Figure size 640x480 with 1 Axes>"
      ]
     },
     "metadata": {},
     "output_type": "display_data"
    }
   ],
   "source": [
    "df[['OPEN_BAL', 'CURR_BAL']].plot.scatter(x='OPEN_BAL', y='CURR_BAL', alpha=0.5)\n",
    "plt.show()"
   ]
  },
  {
   "cell_type": "code",
   "execution_count": 11,
   "metadata": {},
   "outputs": [
    {
     "data": {
      "image/png": "[encoded data removed]",
      "text/plain": [
       "<Figure size 640x480 with 1 Axes>"
      ]
     },
     "metadata": {},
     "output_type": "display_data"
    }
   ],
   "source": [
    "df[['OPEN_BAL', 'CURR_BAL']].plot.box()\n",
    "plt.show()"
   ]
  },
  {
   "cell_type": "code",
   "execution_count": 15,
   "metadata": {},
   "outputs": [
    {
     "data": {
      "image/png": "[encoded data removed]",
      "text/plain": [
       "<Figure size 640x480 with 2 Axes>"
      ]
     },
     "metadata": {},
     "output_type": "display_data"
    }
   ],
   "source": [
    "df[['OPEN_BAL', 'CURR_BAL']].plot.hist(subplots=True)\n",
    "plt.show()"
   ]
  },
  {
   "cell_type": "code",
   "execution_count": 25,
   "metadata": {},
   "outputs": [
    {
     "data": {
      "text/html": [
       "<div>\n",
       "<style scoped>\n",
       "    .dataframe tbody tr th:only-of-type {\n",
       "        vertical-align: middle;\n",
       "    }\n",
       "\n",
       "    .dataframe tbody tr th {\n",
       "        vertical-align: top;\n",
       "    }\n",
       "\n",
       "    .dataframe thead th {\n",
       "        text-align: right;\n",
       "    }\n",
       "</style>\n",
       "<table border=\"1\" class=\"dataframe\">\n",
       "  <thead>\n",
       "    <tr style=\"text-align: right;\">\n",
       "      <th></th>\n",
       "      <th>ID</th>\n",
       "      <th>ACCOUNT</th>\n",
       "      <th>OPENDATE</th>\n",
       "      <th>ACCTNO</th>\n",
       "    </tr>\n",
       "  </thead>\n",
       "  <tbody>\n",
       "    <tr>\n",
       "      <th>count</th>\n",
       "      <td>162</td>\n",
       "      <td>162</td>\n",
       "      <td>162</td>\n",
       "      <td>162</td>\n",
       "    </tr>\n",
       "    <tr>\n",
       "      <th>unique</th>\n",
       "      <td>94</td>\n",
       "      <td>2</td>\n",
       "      <td>61</td>\n",
       "      <td>162</td>\n",
       "    </tr>\n",
       "    <tr>\n",
       "      <th>top</th>\n",
       "      <td>ID12750</td>\n",
       "      <td>CURRENT</td>\n",
       "      <td>7/3/1997</td>\n",
       "      <td>SA 12701 53549</td>\n",
       "    </tr>\n",
       "    <tr>\n",
       "      <th>freq</th>\n",
       "      <td>3</td>\n",
       "      <td>93</td>\n",
       "      <td>5</td>\n",
       "      <td>1</td>\n",
       "    </tr>\n",
       "  </tbody>\n",
       "</table>\n",
       "</div>"
      ],
      "text/plain": [
       "             ID  ACCOUNT  OPENDATE          ACCTNO\n",
       "count       162      162       162             162\n",
       "unique       94        2        61             162\n",
       "top     ID12750  CURRENT  7/3/1997  SA 12701 53549\n",
       "freq          3       93         5               1"
      ]
     },
     "execution_count": 25,
     "metadata": {},
     "output_type": "execute_result"
    }
   ],
   "source": [
    "# variables categoricas\n",
    "df.describe(include='object')"
   ]
  },
  {
   "cell_type": "code",
   "execution_count": 32,
   "metadata": {},
   "outputs": [
    {
     "data": {
      "text/plain": [
       "162"
      ]
     },
     "execution_count": 32,
     "metadata": {},
     "output_type": "execute_result"
    }
   ],
   "source": [
    "# numero de elementos: filas x columnas\n",
    "df['ID'].size"
   ]
  },
  {
   "cell_type": "code",
   "execution_count": 27,
   "metadata": {},
   "outputs": [
    {
     "data": {
      "text/plain": [
       "ACCOUNT\n",
       "CURRENT    93\n",
       "SAVE       69\n",
       "Name: count, dtype: int64"
      ]
     },
     "execution_count": 27,
     "metadata": {},
     "output_type": "execute_result"
    }
   ],
   "source": [
    "# recuento de valores con opción a contar nulos\n",
    "df['ACCOUNT'].value_counts(dropna = False)"
   ]
  },
  {
   "cell_type": "code",
   "execution_count": 29,
   "metadata": {},
   "outputs": [
    {
     "data": {
      "image/png": "[encoded data removed]",
      "text/plain": [
       "<Figure size 640x480 with 1 Axes>"
      ]
     },
     "metadata": {},
     "output_type": "display_data"
    }
   ],
   "source": [
    "# graficos\n",
    "df.groupby('ACCOUNT')['ACCOUNT'].count().plot.bar()\n",
    "\n",
    "plt.show()"
   ]
  },
  {
   "cell_type": "code",
   "execution_count": 36,
   "metadata": {},
   "outputs": [
    {
     "data": {
      "text/html": [
       "<div>\n",
       "<style scoped>\n",
       "    .dataframe tbody tr th:only-of-type {\n",
       "        vertical-align: middle;\n",
       "    }\n",
       "\n",
       "    .dataframe tbody tr th {\n",
       "        vertical-align: top;\n",
       "    }\n",
       "\n",
       "    .dataframe thead th {\n",
       "        text-align: right;\n",
       "    }\n",
       "</style>\n",
       "<table border=\"1\" class=\"dataframe\">\n",
       "  <thead>\n",
       "    <tr style=\"text-align: right;\">\n",
       "      <th></th>\n",
       "      <th>ID</th>\n",
       "      <th>ACCOUNT</th>\n",
       "      <th>OPEN_BAL</th>\n",
       "      <th>CURR_BAL</th>\n",
       "      <th>OPENDATE</th>\n",
       "      <th>ACCTNO</th>\n",
       "    </tr>\n",
       "  </thead>\n",
       "  <tbody>\n",
       "    <tr>\n",
       "      <th>59</th>\n",
       "      <td>ID12737</td>\n",
       "      <td>CURRENT</td>\n",
       "      <td>50.0</td>\n",
       "      <td>119.51</td>\n",
       "      <td>30/2/1997</td>\n",
       "      <td>CU 12737 71475</td>\n",
       "    </tr>\n",
       "  </tbody>\n",
       "</table>\n",
       "</div>"
      ],
      "text/plain": [
       "         ID  ACCOUNT  OPEN_BAL  CURR_BAL   OPENDATE          ACCTNO\n",
       "59  ID12737  CURRENT      50.0    119.51  30/2/1997  CU 12737 71475"
      ]
     },
     "execution_count": 36,
     "metadata": {},
     "output_type": "execute_result"
    }
   ],
   "source": [
    "df[59:60]"
   ]
  },
  {
   "cell_type": "code",
   "execution_count": 71,
   "metadata": {},
   "outputs": [
    {
     "data": {
      "text/html": [
       "<div>\n",
       "<style scoped>\n",
       "    .dataframe tbody tr th:only-of-type {\n",
       "        vertical-align: middle;\n",
       "    }\n",
       "\n",
       "    .dataframe tbody tr th {\n",
       "        vertical-align: top;\n",
       "    }\n",
       "\n",
       "    .dataframe thead th {\n",
       "        text-align: right;\n",
       "    }\n",
       "</style>\n",
       "<table border=\"1\" class=\"dataframe\">\n",
       "  <thead>\n",
       "    <tr style=\"text-align: right;\">\n",
       "      <th></th>\n",
       "      <th>ID</th>\n",
       "      <th>ACCOUNT</th>\n",
       "      <th>OPEN_BAL</th>\n",
       "      <th>CURR_BAL</th>\n",
       "      <th>OPENDATE</th>\n",
       "      <th>ACCTNO</th>\n",
       "      <th>OPENDATE_ts</th>\n",
       "    </tr>\n",
       "  </thead>\n",
       "  <tbody>\n",
       "    <tr>\n",
       "      <th>0</th>\n",
       "      <td>ID12701</td>\n",
       "      <td>SAVE</td>\n",
       "      <td>1000.0</td>\n",
       "      <td>1005.32</td>\n",
       "      <td>11/2/1997</td>\n",
       "      <td>SA 12701 53549</td>\n",
       "      <td>1997-02-11</td>\n",
       "    </tr>\n",
       "    <tr>\n",
       "      <th>1</th>\n",
       "      <td>ID12702</td>\n",
       "      <td>SAVE</td>\n",
       "      <td>100.0</td>\n",
       "      <td>144.51</td>\n",
       "      <td>20/5/1997</td>\n",
       "      <td>SA 12702 18333</td>\n",
       "      <td>1997-05-20</td>\n",
       "    </tr>\n",
       "    <tr>\n",
       "      <th>2</th>\n",
       "      <td>ID12703</td>\n",
       "      <td>SAVE</td>\n",
       "      <td>300.0</td>\n",
       "      <td>321.20</td>\n",
       "      <td>20/7/1997</td>\n",
       "      <td>SA 12703 30343</td>\n",
       "      <td>1997-07-20</td>\n",
       "    </tr>\n",
       "    <tr>\n",
       "      <th>3</th>\n",
       "      <td>ID12703</td>\n",
       "      <td>CURRENT</td>\n",
       "      <td>150.0</td>\n",
       "      <td>-204.51</td>\n",
       "      <td>23/5/1997</td>\n",
       "      <td>CU 12703 75336</td>\n",
       "      <td>1997-05-23</td>\n",
       "    </tr>\n",
       "    <tr>\n",
       "      <th>4</th>\n",
       "      <td>ID12704</td>\n",
       "      <td>SAVE</td>\n",
       "      <td>2000.0</td>\n",
       "      <td>2022.02</td>\n",
       "      <td>7/3/1997</td>\n",
       "      <td>SA 12704 14721</td>\n",
       "      <td>1997-03-07</td>\n",
       "    </tr>\n",
       "    <tr>\n",
       "      <th>5</th>\n",
       "      <td>ID12705</td>\n",
       "      <td>SAVE</td>\n",
       "      <td>190.0</td>\n",
       "      <td>287.80</td>\n",
       "      <td>6/9/1997</td>\n",
       "      <td>SA 12705 99830</td>\n",
       "      <td>1997-09-06</td>\n",
       "    </tr>\n",
       "    <tr>\n",
       "      <th>6</th>\n",
       "      <td>ID12705</td>\n",
       "      <td>CURRENT</td>\n",
       "      <td>2742.0</td>\n",
       "      <td>2762.99</td>\n",
       "      <td>14/5/1997</td>\n",
       "      <td>CU 12705 22554</td>\n",
       "      <td>1997-05-14</td>\n",
       "    </tr>\n",
       "    <tr>\n",
       "      <th>7</th>\n",
       "      <td>ID12705</td>\n",
       "      <td>CURRENT</td>\n",
       "      <td>150.0</td>\n",
       "      <td>191.09</td>\n",
       "      <td>12/6/1997</td>\n",
       "      <td>CU 12705 73700</td>\n",
       "      <td>1997-06-12</td>\n",
       "    </tr>\n",
       "    <tr>\n",
       "      <th>8</th>\n",
       "      <td>ID12706</td>\n",
       "      <td>SAVE</td>\n",
       "      <td>300.0</td>\n",
       "      <td>353.69</td>\n",
       "      <td>31/1/1997</td>\n",
       "      <td>SA 12706 28968</td>\n",
       "      <td>1997-01-31</td>\n",
       "    </tr>\n",
       "    <tr>\n",
       "      <th>9</th>\n",
       "      <td>ID12706</td>\n",
       "      <td>CURRENT</td>\n",
       "      <td>1412.0</td>\n",
       "      <td>1490.11</td>\n",
       "      <td>4/2/1997</td>\n",
       "      <td>CU 12706 23794</td>\n",
       "      <td>1997-02-04</td>\n",
       "    </tr>\n",
       "  </tbody>\n",
       "</table>\n",
       "</div>"
      ],
      "text/plain": [
       "        ID  ACCOUNT  OPEN_BAL  CURR_BAL   OPENDATE          ACCTNO OPENDATE_ts\n",
       "0  ID12701     SAVE    1000.0   1005.32  11/2/1997  SA 12701 53549  1997-02-11\n",
       "1  ID12702     SAVE     100.0    144.51  20/5/1997  SA 12702 18333  1997-05-20\n",
       "2  ID12703     SAVE     300.0    321.20  20/7/1997  SA 12703 30343  1997-07-20\n",
       "3  ID12703  CURRENT     150.0   -204.51  23/5/1997  CU 12703 75336  1997-05-23\n",
       "4  ID12704     SAVE    2000.0   2022.02   7/3/1997  SA 12704 14721  1997-03-07\n",
       "5  ID12705     SAVE     190.0    287.80   6/9/1997  SA 12705 99830  1997-09-06\n",
       "6  ID12705  CURRENT    2742.0   2762.99  14/5/1997  CU 12705 22554  1997-05-14\n",
       "7  ID12705  CURRENT     150.0    191.09  12/6/1997  CU 12705 73700  1997-06-12\n",
       "8  ID12706     SAVE     300.0    353.69  31/1/1997  SA 12706 28968  1997-01-31\n",
       "9  ID12706  CURRENT    1412.0   1490.11   4/2/1997  CU 12706 23794  1997-02-04"
      ]
     },
     "execution_count": 71,
     "metadata": {},
     "output_type": "execute_result"
    }
   ],
   "source": [
    "# variables de fecha: convertir a datetime o timestamp\n",
    "df['OPENDATE_ts'] = pd.to_datetime(df['OPENDATE'], format='mixed', dayfirst=True, errors='coerce')\n",
    "df.head(10)"
   ]
  },
  {
   "cell_type": "code",
   "execution_count": 72,
   "metadata": {},
   "outputs": [
    {
     "data": {
      "text/plain": [
       "count                    160\n",
       "mean     1997-06-16 22:21:00\n",
       "min      1997-01-16 00:00:00\n",
       "25%      1997-03-10 00:00:00\n",
       "50%      1997-05-29 00:00:00\n",
       "75%      1997-09-05 00:00:00\n",
       "max      1997-12-24 00:00:00\n",
       "Name: OPENDATE_ts, dtype: object"
      ]
     },
     "execution_count": 72,
     "metadata": {},
     "output_type": "execute_result"
    }
   ],
   "source": [
    "# resumenes\n",
    "df['OPENDATE_ts'].describe()"
   ]
  },
  {
   "cell_type": "code",
   "execution_count": 69,
   "metadata": {},
   "outputs": [
    {
     "data": {
      "text/html": [
       "<div>\n",
       "<style scoped>\n",
       "    .dataframe tbody tr th:only-of-type {\n",
       "        vertical-align: middle;\n",
       "    }\n",
       "\n",
       "    .dataframe tbody tr th {\n",
       "        vertical-align: top;\n",
       "    }\n",
       "\n",
       "    .dataframe thead th {\n",
       "        text-align: right;\n",
       "    }\n",
       "</style>\n",
       "<table border=\"1\" class=\"dataframe\">\n",
       "  <thead>\n",
       "    <tr style=\"text-align: right;\">\n",
       "      <th></th>\n",
       "      <th>ID</th>\n",
       "      <th>ACCOUNT</th>\n",
       "      <th>OPEN_BAL</th>\n",
       "      <th>CURR_BAL</th>\n",
       "      <th>OPENDATE</th>\n",
       "      <th>ACCTNO</th>\n",
       "      <th>OPENDATE_ts</th>\n",
       "    </tr>\n",
       "  </thead>\n",
       "  <tbody>\n",
       "    <tr>\n",
       "      <th>59</th>\n",
       "      <td>ID12737</td>\n",
       "      <td>CURRENT</td>\n",
       "      <td>50.000</td>\n",
       "      <td>119.51</td>\n",
       "      <td>30/2/1997</td>\n",
       "      <td>CU 12737 71475</td>\n",
       "      <td>NaT</td>\n",
       "    </tr>\n",
       "    <tr>\n",
       "      <th>119</th>\n",
       "      <td>ID12772</td>\n",
       "      <td>SAVE</td>\n",
       "      <td>277.143</td>\n",
       "      <td>312.59</td>\n",
       "      <td>30/2/1997</td>\n",
       "      <td>SA 12772 92791</td>\n",
       "      <td>NaT</td>\n",
       "    </tr>\n",
       "  </tbody>\n",
       "</table>\n",
       "</div>"
      ],
      "text/plain": [
       "          ID  ACCOUNT  OPEN_BAL  CURR_BAL   OPENDATE          ACCTNO   \n",
       "59   ID12737  CURRENT    50.000    119.51  30/2/1997  CU 12737 71475  \\\n",
       "119  ID12772     SAVE   277.143    312.59  30/2/1997  SA 12772 92791   \n",
       "\n",
       "    OPENDATE_ts  \n",
       "59          NaT  \n",
       "119         NaT  "
      ]
     },
     "execution_count": 69,
     "metadata": {},
     "output_type": "execute_result"
    }
   ],
   "source": [
    "# para revisar los que no pudieron convertir y quedaron en nulos\n",
    "df[df['OPENDATE_ts'].isna()]"
   ]
  },
  {
   "cell_type": "code",
   "execution_count": 18,
   "metadata": {},
   "outputs": [
    {
     "data": {
      "image/png": "[encoded data removed]",
      "text/plain": [
       "<Figure size 640x480 with 1 Axes>"
      ]
     },
     "metadata": {},
     "output_type": "display_data"
    }
   ],
   "source": [
    "# comprueba si el numero de cuenta esta bien asignado segun el tipo de cuenta\n",
    "df['comprueba_tipo_cuenta'] = df['ACCOUNT'].astype('string').str.slice(0,2) == df['ACCTNO'].astype('string').str.slice(0,2)\n",
    "df.groupby('comprueba_tipo_cuenta')['comprueba_tipo_cuenta'].count().plot.bar()\n",
    "plt.show()"
   ]
  },
  {
   "cell_type": "code",
   "execution_count": 3,
   "metadata": {},
   "outputs": [
    {
     "data": {
      "text/html": [
       "<div>\n",
       "<style scoped>\n",
       "    .dataframe tbody tr th:only-of-type {\n",
       "        vertical-align: middle;\n",
       "    }\n",
       "\n",
       "    .dataframe tbody tr th {\n",
       "        vertical-align: top;\n",
       "    }\n",
       "\n",
       "    .dataframe thead th {\n",
       "        text-align: right;\n",
       "    }\n",
       "</style>\n",
       "<table border=\"1\" class=\"dataframe\">\n",
       "  <thead>\n",
       "    <tr style=\"text-align: right;\">\n",
       "      <th></th>\n",
       "      <th>ID</th>\n",
       "      <th>ACCOUNT</th>\n",
       "      <th>OPEN_BAL</th>\n",
       "      <th>CURR_BAL</th>\n",
       "      <th>OPENDATE</th>\n",
       "      <th>ACCTNO</th>\n",
       "      <th>comprueba_acctno</th>\n",
       "      <th>comprueba_id</th>\n",
       "    </tr>\n",
       "  </thead>\n",
       "  <tbody>\n",
       "    <tr>\n",
       "      <th>0</th>\n",
       "      <td>ID12701</td>\n",
       "      <td>SAVE</td>\n",
       "      <td>1000.0</td>\n",
       "      <td>1005.32</td>\n",
       "      <td>11/2/1997</td>\n",
       "      <td>SA 12701 53549</td>\n",
       "      <td>True</td>\n",
       "      <td>True</td>\n",
       "    </tr>\n",
       "    <tr>\n",
       "      <th>1</th>\n",
       "      <td>ID12702</td>\n",
       "      <td>SAVE</td>\n",
       "      <td>100.0</td>\n",
       "      <td>144.51</td>\n",
       "      <td>20/5/1997</td>\n",
       "      <td>SA 12702 18333</td>\n",
       "      <td>True</td>\n",
       "      <td>True</td>\n",
       "    </tr>\n",
       "    <tr>\n",
       "      <th>2</th>\n",
       "      <td>ID12703</td>\n",
       "      <td>SAVE</td>\n",
       "      <td>300.0</td>\n",
       "      <td>321.20</td>\n",
       "      <td>20/7/1997</td>\n",
       "      <td>SA 12703 30343</td>\n",
       "      <td>True</td>\n",
       "      <td>True</td>\n",
       "    </tr>\n",
       "    <tr>\n",
       "      <th>3</th>\n",
       "      <td>ID12703</td>\n",
       "      <td>CURRENT</td>\n",
       "      <td>150.0</td>\n",
       "      <td>-204.51</td>\n",
       "      <td>23/5/1997</td>\n",
       "      <td>CU 12703 75336</td>\n",
       "      <td>True</td>\n",
       "      <td>True</td>\n",
       "    </tr>\n",
       "    <tr>\n",
       "      <th>4</th>\n",
       "      <td>ID12704</td>\n",
       "      <td>SAVE</td>\n",
       "      <td>2000.0</td>\n",
       "      <td>2022.02</td>\n",
       "      <td>7/3/1997</td>\n",
       "      <td>SA 12704 14721</td>\n",
       "      <td>True</td>\n",
       "      <td>True</td>\n",
       "    </tr>\n",
       "    <tr>\n",
       "      <th>5</th>\n",
       "      <td>ID12705</td>\n",
       "      <td>SAVE</td>\n",
       "      <td>190.0</td>\n",
       "      <td>287.80</td>\n",
       "      <td>6/9/1997</td>\n",
       "      <td>SA 12705 99830</td>\n",
       "      <td>True</td>\n",
       "      <td>True</td>\n",
       "    </tr>\n",
       "    <tr>\n",
       "      <th>6</th>\n",
       "      <td>ID12705</td>\n",
       "      <td>CURRENT</td>\n",
       "      <td>2742.0</td>\n",
       "      <td>2762.99</td>\n",
       "      <td>14/5/1997</td>\n",
       "      <td>CU 12705 22554</td>\n",
       "      <td>True</td>\n",
       "      <td>True</td>\n",
       "    </tr>\n",
       "    <tr>\n",
       "      <th>7</th>\n",
       "      <td>ID12705</td>\n",
       "      <td>CURRENT</td>\n",
       "      <td>150.0</td>\n",
       "      <td>191.09</td>\n",
       "      <td>12/6/1997</td>\n",
       "      <td>CU 12705 73700</td>\n",
       "      <td>True</td>\n",
       "      <td>True</td>\n",
       "    </tr>\n",
       "    <tr>\n",
       "      <th>8</th>\n",
       "      <td>ID12706</td>\n",
       "      <td>SAVE</td>\n",
       "      <td>300.0</td>\n",
       "      <td>353.69</td>\n",
       "      <td>31/1/1997</td>\n",
       "      <td>SA 12706 28968</td>\n",
       "      <td>True</td>\n",
       "      <td>True</td>\n",
       "    </tr>\n",
       "    <tr>\n",
       "      <th>9</th>\n",
       "      <td>ID12706</td>\n",
       "      <td>CURRENT</td>\n",
       "      <td>1412.0</td>\n",
       "      <td>1490.11</td>\n",
       "      <td>4/2/1997</td>\n",
       "      <td>CU 12706 23794</td>\n",
       "      <td>True</td>\n",
       "      <td>True</td>\n",
       "    </tr>\n",
       "  </tbody>\n",
       "</table>\n",
       "</div>"
      ],
      "text/plain": [
       "        ID  ACCOUNT  OPEN_BAL  CURR_BAL   OPENDATE          ACCTNO   \n",
       "0  ID12701     SAVE    1000.0   1005.32  11/2/1997  SA 12701 53549  \\\n",
       "1  ID12702     SAVE     100.0    144.51  20/5/1997  SA 12702 18333   \n",
       "2  ID12703     SAVE     300.0    321.20  20/7/1997  SA 12703 30343   \n",
       "3  ID12703  CURRENT     150.0   -204.51  23/5/1997  CU 12703 75336   \n",
       "4  ID12704     SAVE    2000.0   2022.02   7/3/1997  SA 12704 14721   \n",
       "5  ID12705     SAVE     190.0    287.80   6/9/1997  SA 12705 99830   \n",
       "6  ID12705  CURRENT    2742.0   2762.99  14/5/1997  CU 12705 22554   \n",
       "7  ID12705  CURRENT     150.0    191.09  12/6/1997  CU 12705 73700   \n",
       "8  ID12706     SAVE     300.0    353.69  31/1/1997  SA 12706 28968   \n",
       "9  ID12706  CURRENT    1412.0   1490.11   4/2/1997  CU 12706 23794   \n",
       "\n",
       "   comprueba_acctno  comprueba_id  \n",
       "0              True          True  \n",
       "1              True          True  \n",
       "2              True          True  \n",
       "3              True          True  \n",
       "4              True          True  \n",
       "5              True          True  \n",
       "6              True          True  \n",
       "7              True          True  \n",
       "8              True          True  \n",
       "9              True          True  "
      ]
     },
     "execution_count": 3,
     "metadata": {},
     "output_type": "execute_result"
    }
   ],
   "source": [
    "df['comprueba_acctno'] = df['ACCTNO'].astype('string').str.match(r'^[A-Z]{2}\\s\\d{5}\\s\\d{5}$')\n",
    "df['comprueba_id'] = df['ID'].astype('string').str.match(r'^[A-Z]{2}\\d{5}$')\n",
    "df.head(10)"
   ]
  },
  {
   "cell_type": "code",
   "execution_count": 22,
   "metadata": {},
   "outputs": [
    {
     "data": {
      "image/png": "[encoded data removed]",
      "text/plain": [
       "<Figure size 640x480 with 1 Axes>"
      ]
     },
     "metadata": {},
     "output_type": "display_data"
    }
   ],
   "source": [
    "df.groupby('comprueba_acctno')['comprueba_acctno'].count().plot.bar()\n",
    "plt.show()"
   ]
  },
  {
   "cell_type": "code",
   "execution_count": 4,
   "metadata": {},
   "outputs": [
    {
     "data": {
      "image/png": "[encoded data removed]",
      "text/plain": [
       "<Figure size 640x480 with 1 Axes>"
      ]
     },
     "metadata": {},
     "output_type": "display_data"
    }
   ],
   "source": [
    "df.groupby('comprueba_id')['comprueba_id'].count().plot.bar()\n",
    "plt.show()"
   ]
  }
 ],
 "metadata": {
  "kernelspec": {
   "display_name": "Python 3",
   "language": "python",
   "name": "python3"
  },
  "language_info": {
   "codemirror_mode": {
    "name": "ipython",
    "version": 3
   },
   "file_extension": ".py",
   "mimetype": "text/x-python",
   "name": "python",
   "nbconvert_exporter": "python",
   "pygments_lexer": "ipython3",
   "version": "3.11.3"
  },
  "orig_nbformat": 4
 },
 "nbformat": 4,
 "nbformat_minor": 2
}
